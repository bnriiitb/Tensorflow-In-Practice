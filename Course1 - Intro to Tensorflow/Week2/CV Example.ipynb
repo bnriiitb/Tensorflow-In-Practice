{
 "cells": [
  {
   "cell_type": "markdown",
   "metadata": {},
   "source": [
    "# Beyond Hello World, A Computer Vision Example\n",
    "In the previous exercise you saw how to create a neural network that figured out the problem you were trying to solve. This gave an explicit example of learned behavior. Of course, in that instance, it was a bit of overkill because it would have been easier to write the function Y=2x-1 directly, instead of bothering with using Machine Learning to learn the relationship between X and Y for a fixed set of values, and extending that for all values.\n",
    "\n",
    "But what about a scenario where writing rules like that is much more difficult -- for example a computer vision problem? Let's take a look at a scenario where we can recognize different items of clothing, trained from a dataset containing 10 different types."
   ]
  },
  {
   "cell_type": "code",
   "execution_count": 1,
   "metadata": {},
   "outputs": [
    {
     "name": "stdout",
     "output_type": "stream",
     "text": [
      "2.1.0\n"
     ]
    }
   ],
   "source": [
    "import tensorflow as tf\n",
    "print(tf.__version__)"
   ]
  },
  {
   "cell_type": "markdown",
   "metadata": {},
   "source": [
    "The Fashion MNIST data is available directly in the tf.keras datasets API. You load it like this:"
   ]
  },
  {
   "cell_type": "code",
   "execution_count": 2,
   "metadata": {},
   "outputs": [],
   "source": [
    "fashion_mnist = tf.keras.datasets.fashion_mnist"
   ]
  },
  {
   "cell_type": "code",
   "execution_count": 4,
   "metadata": {},
   "outputs": [
    {
     "name": "stdout",
     "output_type": "stream",
     "text": [
      "Downloading data from https://storage.googleapis.com/tensorflow/tf-keras-datasets/train-labels-idx1-ubyte.gz\n",
      "32768/29515 [=================================] - 0s 0us/step\n",
      "Downloading data from https://storage.googleapis.com/tensorflow/tf-keras-datasets/train-images-idx3-ubyte.gz\n",
      "26427392/26421880 [==============================] - 7s 0us/step\n",
      "Downloading data from https://storage.googleapis.com/tensorflow/tf-keras-datasets/t10k-labels-idx1-ubyte.gz\n",
      "8192/5148 [===============================================] - 0s 0us/step\n",
      "Downloading data from https://storage.googleapis.com/tensorflow/tf-keras-datasets/t10k-images-idx3-ubyte.gz\n",
      "4423680/4422102 [==============================] - 1s 0us/step\n"
     ]
    }
   ],
   "source": [
    "(training_images,training_lables), (testing_images,testing_labels) = fashion_mnist.load_data()"
   ]
  },
  {
   "cell_type": "code",
   "execution_count": 13,
   "metadata": {},
   "outputs": [
    {
     "name": "stdout",
     "output_type": "stream",
     "text": [
      "9\n"
     ]
    },
    {
     "data": {
      "image/png": "[encoded data removed]",
      "text/plain": [
       "<Figure size 432x288 with 1 Axes>"
      ]
     },
     "metadata": {
      "needs_background": "light"
     },
     "output_type": "display_data"
    }
   ],
   "source": [
    "from matplotlib import pyplot as plt\n",
    "plt.imshow(training_images[0])\n",
    "print(training_lables[0])"
   ]
  },
  {
   "cell_type": "code",
   "execution_count": 14,
   "metadata": {},
   "outputs": [],
   "source": [
    "# normalize values in the range of 0 - 1\n",
    "training_images = training_images/255.0\n",
    "testing_images = testing_images/255.0"
   ]
  },
  {
   "cell_type": "code",
   "execution_count": 17,
   "metadata": {},
   "outputs": [
    {
     "data": {
      "text/plain": [
       "<matplotlib.image.AxesImage at 0x165b67810>"
      ]
     },
     "execution_count": 17,
     "metadata": {},
     "output_type": "execute_result"
    },
    {
     "data": {
      "image/png": "[encoded data removed]",
      "text/plain": [
       "<Figure size 432x288 with 1 Axes>"
      ]
     },
     "metadata": {
      "needs_background": "light"
     },
     "output_type": "display_data"
    }
   ],
   "source": [
    "plt.imshow(training_images[0])"
   ]
  },
  {
   "cell_type": "code",
   "execution_count": 18,
   "metadata": {},
   "outputs": [],
   "source": [
    "model = tf.keras.Sequential([tf.keras.layers.Flatten(),\n",
    "                            tf.keras.layers.Dense(units=128,activation=tf.nn.relu),\n",
    "                            tf.keras.layers.Dense(units=10,activation=tf.nn.softmax)])"
   ]
  },
  {
   "cell_type": "code",
   "execution_count": 19,
   "metadata": {},
   "outputs": [],
   "source": [
    "model.compile(optimizer=tf.optimizers.Adam(),\n",
    "             loss='sparse_categorical_crossentropy',\n",
    "             metrics=['accuracy'])"
   ]
  },
  {
   "cell_type": "code",
   "execution_count": 24,
   "metadata": {},
   "outputs": [
    {
     "name": "stdout",
     "output_type": "stream",
     "text": [
      "Train on 60000 samples\n",
      "Epoch 1/10\n",
      "60000/60000 [==============================] - 2s 41us/sample - loss: 0.2703 - accuracy: 0.8992\n",
      "Epoch 2/10\n",
      "60000/60000 [==============================] - 2s 41us/sample - loss: 0.2600 - accuracy: 0.9039\n",
      "Epoch 3/10\n",
      "60000/60000 [==============================] - 2s 40us/sample - loss: 0.2496 - accuracy: 0.9072\n",
      "Epoch 4/10\n",
      "60000/60000 [==============================] - 2s 40us/sample - loss: 0.2396 - accuracy: 0.9099\n",
      "Epoch 5/10\n",
      "60000/60000 [==============================] - 2s 40us/sample - loss: 0.2314 - accuracy: 0.9125\n",
      "Epoch 6/10\n",
      "60000/60000 [==============================] - 2s 40us/sample - loss: 0.2248 - accuracy: 0.9160\n",
      "Epoch 7/10\n",
      "60000/60000 [==============================] - 2s 40us/sample - loss: 0.2190 - accuracy: 0.9180\n",
      "Epoch 8/10\n",
      "60000/60000 [==============================] - 2s 40us/sample - loss: 0.2118 - accuracy: 0.9209\n",
      "Epoch 9/10\n",
      "60000/60000 [==============================] - 2s 40us/sample - loss: 0.2066 - accuracy: 0.9230\n",
      "Epoch 10/10\n",
      "60000/60000 [==============================] - 2s 41us/sample - loss: 0.1979 - accuracy: 0.9255\n"
     ]
    },
    {
     "data": {
      "text/plain": [
       "<tensorflow.python.keras.callbacks.History at 0x16960c590>"
      ]
     },
     "execution_count": 24,
     "metadata": {},
     "output_type": "execute_result"
    }
   ],
   "source": [
    "model.fit(training_images,training_lables,epochs=10)"
   ]
  },
  {
   "cell_type": "code",
   "execution_count": 23,
   "metadata": {},
   "outputs": [
    {
     "data": {
      "text/plain": [
       "['loss', 'accuracy']"
      ]
     },
     "execution_count": 23,
     "metadata": {},
     "output_type": "execute_result"
    }
   ],
   "source": [
    "model.metrics_names"
   ]
  },
  {
   "cell_type": "code",
   "execution_count": 25,
   "metadata": {},
   "outputs": [
    {
     "name": "stdout",
     "output_type": "stream",
     "text": [
      "10000/10000 [==============================] - 0s 25us/sample - loss: 0.3393 - accuracy: 0.8860\n"
     ]
    },
    {
     "data": {
      "text/plain": [
       "[0.33926920400857924, 0.886]"
      ]
     },
     "execution_count": 25,
     "metadata": {},
     "output_type": "execute_result"
    }
   ],
   "source": [
    "model.evaluate(testing_images,testing_labels)"
   ]
  },
  {
   "cell_type": "markdown",
   "metadata": {},
   "source": [
    "# Exploration Exercises"
   ]
  },
  {
   "cell_type": "markdown",
   "metadata": {},
   "source": [
    "### Exercise 1:\n",
    "\n",
    "For this first exercise run the below code: It creates a set of classifications for each of the test images, and then prints the first entry in the classifications. \n",
    "\n",
    "The output, after you run it is a list of numbers. Why do you think this is, and what do those numbers represent? "
   ]
  },
  {
   "cell_type": "code",
   "execution_count": 27,
   "metadata": {},
   "outputs": [
    {
     "name": "stdout",
     "output_type": "stream",
     "text": [
      "[2.9116684e-08 2.1921832e-11 5.2715884e-11 4.5139313e-12 3.6093339e-10\n",
      " 1.5976471e-03 1.8241646e-09 7.1328178e-02 4.4005828e-06 9.2706972e-01]\n"
     ]
    }
   ],
   "source": [
    "classifications = model.predict(testing_images)\n",
    "\n",
    "print(classifications[0])"
   ]
  },
  {
   "cell_type": "markdown",
   "metadata": {},
   "source": [
    "### Exercise 2:\n",
    "\n",
    "Let's now look at the layers in your model. Experiment with different values for the dense layer with 512 neurons. \n",
    "\n",
    "What different results do you get for loss, training time etc? Why do you think that's the case?"
   ]
  },
  {
   "cell_type": "code",
   "execution_count": 46,
   "metadata": {},
   "outputs": [
    {
     "name": "stdout",
     "output_type": "stream",
     "text": [
      "Train on 60000 samples\n",
      "Epoch 1/15\n",
      "60000/60000 [==============================] - 5s 83us/sample - loss: 0.4728 - accuracy: 0.8314\n",
      "Epoch 2/15\n",
      "60000/60000 [==============================] - 5s 80us/sample - loss: 0.3581 - accuracy: 0.8694\n",
      "Epoch 3/15\n",
      "60000/60000 [==============================] - 5s 79us/sample - loss: 0.3194 - accuracy: 0.8818\n",
      "Epoch 4/15\n",
      "60000/60000 [==============================] - 5s 79us/sample - loss: 0.2965 - accuracy: 0.8895\n",
      "Epoch 5/15\n",
      "60000/60000 [==============================] - 5s 79us/sample - loss: 0.2767 - accuracy: 0.8964\n",
      "Epoch 6/15\n",
      "60000/60000 [==============================] - 5s 79us/sample - loss: 0.2647 - accuracy: 0.9009\n",
      "Epoch 7/15\n",
      "60000/60000 [==============================] - 5s 80us/sample - loss: 0.2491 - accuracy: 0.9079\n",
      "Epoch 8/15\n",
      "60000/60000 [==============================] - 5s 80us/sample - loss: 0.2404 - accuracy: 0.9095\n",
      "Epoch 9/15\n",
      "60000/60000 [==============================] - 5s 79us/sample - loss: 0.2304 - accuracy: 0.9139\n",
      "Epoch 10/15\n",
      "60000/60000 [==============================] - 5s 79us/sample - loss: 0.2219 - accuracy: 0.9169\n",
      "Epoch 11/15\n",
      "60000/60000 [==============================] - 5s 81us/sample - loss: 0.2122 - accuracy: 0.9201\n",
      "Epoch 12/15\n",
      "60000/60000 [==============================] - 5s 81us/sample - loss: 0.2033 - accuracy: 0.9231\n",
      "Epoch 13/15\n",
      "60000/60000 [==============================] - 5s 81us/sample - loss: 0.1967 - accuracy: 0.9243\n",
      "Epoch 14/15\n",
      "60000/60000 [==============================] - 5s 81us/sample - loss: 0.1925 - accuracy: 0.9277\n",
      "Epoch 15/15\n",
      "60000/60000 [==============================] - 5s 80us/sample - loss: 0.1827 - accuracy: 0.9311\n"
     ]
    },
    {
     "data": {
      "text/plain": [
       "<tensorflow.python.keras.callbacks.History at 0x165b24e50>"
      ]
     },
     "execution_count": 46,
     "metadata": {},
     "output_type": "execute_result"
    }
   ],
   "source": [
    "model = tf.keras.Sequential([tf.keras.layers.Flatten(),\n",
    "                            tf.keras.layers.Dense(units=1024,activation=tf.nn.relu),\n",
    "                            tf.keras.layers.Dense(units=10,activation=tf.nn.softmax)])\n",
    "model.compile(optimizer='adam',loss='sparse_categorical_crossentropy',metrics=['accuracy'])\n",
    "model.fit(training_images,training_lables,epochs=15)"
   ]
  },
  {
   "cell_type": "code",
   "execution_count": 47,
   "metadata": {},
   "outputs": [
    {
     "name": "stdout",
     "output_type": "stream",
     "text": [
      "10000/10000 [==============================] - 1s 51us/sample - loss: 0.3283 - accuracy: 0.8962\n"
     ]
    },
    {
     "data": {
      "text/plain": [
       "[0.32830796476602553, 0.8962]"
      ]
     },
     "execution_count": 47,
     "metadata": {},
     "output_type": "execute_result"
    }
   ],
   "source": [
    "model.evaluate(testing_images,testing_labels)"
   ]
  },
  {
   "cell_type": "markdown",
   "metadata": {},
   "source": [
    "### Unnormalized version"
   ]
  },
  {
   "cell_type": "code",
   "execution_count": 48,
   "metadata": {},
   "outputs": [],
   "source": [
    "(training_images,training_lables), (testing_images,testing_labels) = fashion_mnist.load_data()"
   ]
  },
  {
   "cell_type": "code",
   "execution_count": 49,
   "metadata": {},
   "outputs": [],
   "source": [
    "model = tf.keras.Sequential([tf.keras.layers.Flatten(),\n",
    "                            tf.keras.layers.Dense(units=128,activation=tf.nn.relu),\n",
    "                            tf.keras.layers.Dense(units=10,activation=tf.nn.softmax)])\n",
    "model.compile(optimizer='adam',loss='sparse_categorical_crossentropy',metrics=['accuracy'])"
   ]
  },
  {
   "cell_type": "code",
   "execution_count": 51,
   "metadata": {},
   "outputs": [
    {
     "name": "stdout",
     "output_type": "stream",
     "text": [
      "Train on 60000 samples\n",
      "Epoch 1/15\n",
      "60000/60000 [==============================] - 2s 40us/sample - loss: 0.7224 - accuracy: 0.7229\n",
      "Epoch 2/15\n",
      "60000/60000 [==============================] - 2s 40us/sample - loss: 0.6524 - accuracy: 0.7452\n",
      "Epoch 3/15\n",
      "60000/60000 [==============================] - 2s 40us/sample - loss: 0.5669 - accuracy: 0.7929\n",
      "Epoch 4/15\n",
      "60000/60000 [==============================] - 2s 41us/sample - loss: 0.5345 - accuracy: 0.8123\n",
      "Epoch 5/15\n",
      "60000/60000 [==============================] - 3s 42us/sample - loss: 0.5174 - accuracy: 0.8195\n",
      "Epoch 6/15\n",
      "60000/60000 [==============================] - 2s 40us/sample - loss: 0.5039 - accuracy: 0.8251\n",
      "Epoch 7/15\n",
      "60000/60000 [==============================] - 2s 42us/sample - loss: 0.4930 - accuracy: 0.8286\n",
      "Epoch 8/15\n",
      "60000/60000 [==============================] - 2s 41us/sample - loss: 0.4853 - accuracy: 0.8339\n",
      "Epoch 9/15\n",
      "60000/60000 [==============================] - 2s 40us/sample - loss: 0.4874 - accuracy: 0.8311\n",
      "Epoch 10/15\n",
      "60000/60000 [==============================] - 2s 41us/sample - loss: 0.4761 - accuracy: 0.8343\n",
      "Epoch 11/15\n",
      "60000/60000 [==============================] - 2s 40us/sample - loss: 0.4865 - accuracy: 0.8333\n",
      "Epoch 12/15\n",
      "60000/60000 [==============================] - 4s 60us/sample - loss: 0.4726 - accuracy: 0.8357\n",
      "Epoch 13/15\n",
      "60000/60000 [==============================] - 5s 86us/sample - loss: 0.4770 - accuracy: 0.8350\n",
      "Epoch 14/15\n",
      "60000/60000 [==============================] - 4s 66us/sample - loss: 0.4709 - accuracy: 0.8367\n",
      "Epoch 15/15\n",
      "60000/60000 [==============================] - 2s 40us/sample - loss: 0.4618 - accuracy: 0.8396\n"
     ]
    },
    {
     "data": {
      "text/plain": [
       "<tensorflow.python.keras.callbacks.History at 0x1467e7c10>"
      ]
     },
     "execution_count": 51,
     "metadata": {},
     "output_type": "execute_result"
    }
   ],
   "source": [
    "model.fit(training_images,training_lables,epochs=15)"
   ]
  },
  {
   "cell_type": "code",
   "execution_count": 52,
   "metadata": {},
   "outputs": [
    {
     "name": "stdout",
     "output_type": "stream",
     "text": [
      "10000/10000 [==============================] - 0s 31us/sample - loss: 0.6424 - accuracy: 0.8161\n"
     ]
    },
    {
     "data": {
      "text/plain": [
       "[0.6423748174428939, 0.8161]"
      ]
     },
     "execution_count": 52,
     "metadata": {},
     "output_type": "execute_result"
    }
   ],
   "source": [
    "model.evaluate(testing_images,testing_labels)"
   ]
  },
  {
   "cell_type": "markdown",
   "metadata": {},
   "source": [
    "### Implement Callbacks"
   ]
  },
  {
   "cell_type": "code",
   "execution_count": 55,
   "metadata": {},
   "outputs": [],
   "source": [
    "class myCallBacks(tf.keras.callbacks.Callback):\n",
    "    def on_epoch_end(self,epoch,logs={}):\n",
    "        if logs.get('loss')<0.2:\n",
    "            print('Loss is less thatn 0.4.Hence stopping the training')\n",
    "            self.model.stop_training=True"
   ]
  },
  {
   "cell_type": "code",
   "execution_count": 57,
   "metadata": {},
   "outputs": [
    {
     "name": "stdout",
     "output_type": "stream",
     "text": [
      "Train on 60000 samples\n",
      "Epoch 1/100\n",
      "60000/60000 [==============================] - 3s 44us/sample - loss: 0.4973 - accuracy: 0.8264\n",
      "Epoch 2/100\n",
      "60000/60000 [==============================] - 2s 41us/sample - loss: 0.3773 - accuracy: 0.8635\n",
      "Epoch 3/100\n",
      "60000/60000 [==============================] - 2s 40us/sample - loss: 0.3401 - accuracy: 0.8754\n",
      "Epoch 4/100\n",
      "60000/60000 [==============================] - 2s 41us/sample - loss: 0.3154 - accuracy: 0.8842\n",
      "Epoch 5/100\n",
      "60000/60000 [==============================] - 2s 40us/sample - loss: 0.2968 - accuracy: 0.8907\n",
      "Epoch 6/100\n",
      "60000/60000 [==============================] - 2s 40us/sample - loss: 0.2827 - accuracy: 0.8943\n",
      "Epoch 7/100\n",
      "60000/60000 [==============================] - 2s 40us/sample - loss: 0.2704 - accuracy: 0.8997\n",
      "Epoch 8/100\n",
      "60000/60000 [==============================] - 2s 40us/sample - loss: 0.2592 - accuracy: 0.9034\n",
      "Epoch 9/100\n",
      "60000/60000 [==============================] - 2s 40us/sample - loss: 0.2513 - accuracy: 0.9062\n",
      "Epoch 10/100\n",
      "60000/60000 [==============================] - 2s 40us/sample - loss: 0.2413 - accuracy: 0.9094\n",
      "Epoch 11/100\n",
      "60000/60000 [==============================] - 3s 42us/sample - loss: 0.2338 - accuracy: 0.9119\n",
      "Epoch 12/100\n",
      "60000/60000 [==============================] - 2s 42us/sample - loss: 0.2262 - accuracy: 0.9153\n",
      "Epoch 13/100\n",
      "60000/60000 [==============================] - 2s 41us/sample - loss: 0.2189 - accuracy: 0.9164\n",
      "Epoch 14/100\n",
      "60000/60000 [==============================] - 2s 41us/sample - loss: 0.2116 - accuracy: 0.9210\n",
      "Epoch 15/100\n",
      "60000/60000 [==============================] - 2s 41us/sample - loss: 0.2051 - accuracy: 0.9227\n",
      "Epoch 16/100\n",
      "60000/60000 [==============================] - 2s 41us/sample - loss: 0.2012 - accuracy: 0.9247\n",
      "Epoch 17/100\n",
      "59712/60000 [============================>.] - ETA: 0s - loss: 0.1939 - accuracy: 0.9275Loss is less thatn 0.4.Hence stopping the training\n",
      "60000/60000 [==============================] - 2s 41us/sample - loss: 0.1940 - accuracy: 0.9275\n"
     ]
    },
    {
     "data": {
      "text/plain": [
       "<tensorflow.python.keras.callbacks.History at 0x16fe13f10>"
      ]
     },
     "execution_count": 57,
     "metadata": {},
     "output_type": "execute_result"
    }
   ],
   "source": [
    "mycb = myCallBacks()\n",
    "model = tf.keras.Sequential([tf.keras.layers.Flatten(),\n",
    "                            tf.keras.layers.Dense(units=128,activation=tf.nn.relu),\n",
    "                            tf.keras.layers.Dense(units=10,activation=tf.nn.softmax)])\n",
    "model.compile(optimizer='adam',loss='sparse_categorical_crossentropy',metrics=['accuracy'])\n",
    "model.fit(training_images/255.0,training_lables,epochs=100,callbacks=[mycb])"
   ]
  }
 ],
 "metadata": {
  "kernelspec": {
   "display_name": "Python 3",
   "language": "python",
   "name": "python3"
  },
  "language_info": {
   "codemirror_mode": {
    "name": "ipython",
    "version": 3
   },
   "file_extension": ".py",
   "mimetype": "text/x-python",
   "name": "python",
   "nbconvert_exporter": "python",
   "pygments_lexer": "ipython3",
   "version": "3.7.4"
  }
 },
 "nbformat": 4,
 "nbformat_minor": 4
}

{
 "cells": [
  {
   "cell_type": "code",
   "execution_count": 2,
   "metadata": {},
   "outputs": [
    {
     "data": {
      "text/plain": [
       "'2.1.0'"
      ]
     },
     "execution_count": 2,
     "metadata": {},
     "output_type": "execute_result"
    }
   ],
   "source": [
    "import tensorflow as tf\n",
    "tf.__version__"
   ]
  },
  {
   "cell_type": "markdown",
   "metadata": {},
   "source": [
    "## Load Fashion MNIST Dataset"
   ]
  },
  {
   "cell_type": "code",
   "execution_count": 56,
   "metadata": {},
   "outputs": [],
   "source": [
    "fashion_mnist_dataset = tf.keras.datasets.fashion_mnist\n",
    "(x_train,y_train),(x_test,y_test) = fashion_mnist_dataset.load_data()"
   ]
  },
  {
   "cell_type": "code",
   "execution_count": 7,
   "metadata": {},
   "outputs": [],
   "source": [
    "from matplotlib import pyplot as plt"
   ]
  },
  {
   "cell_type": "code",
   "execution_count": 8,
   "metadata": {},
   "outputs": [
    {
     "data": {
      "text/plain": [
       "<matplotlib.image.AxesImage at 0x14c3ddc10>"
      ]
     },
     "execution_count": 8,
     "metadata": {},
     "output_type": "execute_result"
    },
    {
     "data": {
      "image/png": "[encoded data removed]",
      "text/plain": [
       "<Figure size 432x288 with 1 Axes>"
      ]
     },
     "metadata": {
      "needs_background": "light"
     },
     "output_type": "display_data"
    }
   ],
   "source": [
    "plt.imshow(x_train[0])a"
   ]
  },
  {
   "cell_type": "markdown",
   "metadata": {},
   "source": [
    "## Scale the Data to 0-1"
   ]
  },
  {
   "cell_type": "code",
   "execution_count": 17,
   "metadata": {},
   "outputs": [],
   "source": [
    "x_train = x_train/255.0\n",
    "x_test = x_test/255.0"
   ]
  },
  {
   "cell_type": "code",
   "execution_count": 20,
   "metadata": {},
   "outputs": [
    {
     "data": {
      "text/plain": [
       "<matplotlib.image.AxesImage at 0x1352930d0>"
      ]
     },
     "execution_count": 20,
     "metadata": {},
     "output_type": "execute_result"
    },
    {
     "data": {
      "image/png": "[encoded data removed]",
      "text/plain": [
       "<Figure size 432x288 with 1 Axes>"
      ]
     },
     "metadata": {
      "needs_background": "light"
     },
     "output_type": "display_data"
    }
   ],
   "source": [
    "plt.imshow(x_train[0])"
   ]
  },
  {
   "cell_type": "markdown",
   "metadata": {},
   "source": [
    "## Define and Compile Model"
   ]
  },
  {
   "cell_type": "code",
   "execution_count": 29,
   "metadata": {},
   "outputs": [],
   "source": [
    "model = tf.keras.Sequential([tf.keras.layers.Flatten(),\n",
    "                            tf.keras.layers.Dense(units=1024,activation=tf.nn.relu),\n",
    "                            tf.keras.layers.Dense(units=512,activation=tf.nn.relu),\n",
    "                            tf.keras.layers.Dense(units=256,activation=tf.nn.relu)])\n",
    "model.compile(optimizer='adam',loss='sparse_categorical_crossentropy',metrics=['accuracy'])"
   ]
  },
  {
   "cell_type": "code",
   "execution_count": 30,
   "metadata": {},
   "outputs": [
    {
     "name": "stdout",
     "output_type": "stream",
     "text": [
      "Train on 60000 samples\n",
      "Epoch 1/10\n",
      "60000/60000 [==============================] - 14s 236us/sample - loss: 5.5495 - accuracy: 0.1058\n",
      "Epoch 2/10\n",
      "60000/60000 [==============================] - 13s 224us/sample - loss: 5.5452 - accuracy: 0.1000\n",
      "Epoch 3/10\n",
      "60000/60000 [==============================] - 13s 225us/sample - loss: 5.5452 - accuracy: 0.1000\n",
      "Epoch 4/10\n",
      "60000/60000 [==============================] - 13s 224us/sample - loss: 5.5452 - accuracy: 0.1000\n",
      "Epoch 5/10\n",
      "60000/60000 [==============================] - 15s 243us/sample - loss: 5.5452 - accuracy: 0.1000\n",
      "Epoch 6/10\n",
      "60000/60000 [==============================] - 16s 261us/sample - loss: 5.5452 - accuracy: 0.1000\n",
      "Epoch 7/10\n",
      "60000/60000 [==============================] - 16s 273us/sample - loss: 5.5452 - accuracy: 0.1000\n",
      "Epoch 8/10\n",
      "60000/60000 [==============================] - 19s 322us/sample - loss: 5.5452 - accuracy: 0.1000\n",
      "Epoch 9/10\n",
      "60000/60000 [==============================] - 26s 438us/sample - loss: 5.5452 - accuracy: 0.1000\n",
      "Epoch 10/10\n",
      "60000/60000 [==============================] - 25s 418us/sample - loss: 5.5452 - accuracy: 0.1000\n"
     ]
    },
    {
     "data": {
      "text/plain": [
       "<tensorflow.python.keras.callbacks.History at 0x169395a50>"
      ]
     },
     "execution_count": 30,
     "metadata": {},
     "output_type": "execute_result"
    }
   ],
   "source": [
    "model.fit(x_train,y_train,epochs=10)"
   ]
  },
  {
   "cell_type": "markdown",
   "metadata": {},
   "source": [
    "## Adding Convolution Layers"
   ]
  },
  {
   "cell_type": "code",
   "execution_count": 57,
   "metadata": {},
   "outputs": [],
   "source": [
    "(x_train,y_train),(x_test,y_test) = fashion_mnist_dataset.load_data()"
   ]
  },
  {
   "cell_type": "code",
   "execution_count": 60,
   "metadata": {},
   "outputs": [],
   "source": [
    "x_train = x_train.reshape(60000, 28, 28,1)\n",
    "x_train = x_train/255.0"
   ]
  },
  {
   "cell_type": "code",
   "execution_count": 61,
   "metadata": {},
   "outputs": [],
   "source": [
    "x_test = x_test.reshape(10000, 28, 28,1)\n",
    "x_test = x_test/255.0"
   ]
  },
  {
   "cell_type": "code",
   "execution_count": 71,
   "metadata": {},
   "outputs": [],
   "source": [
    "model = tf.keras.Sequential([tf.keras.layers.Conv2D(filters=64,kernel_size=(3,3),activation='relu',input_shape=(28,28,1)),\n",
    "                             tf.keras.layers.MaxPool2D(pool_size=(2,2)),\n",
    "                             tf.keras.layers.Conv2D(filters=64,kernel_size=(3,3),activation='relu'),\n",
    "                             tf.keras.layers.MaxPool2D(pool_size=(2,2)),\n",
    "                             tf.keras.layers.Flatten(),\n",
    "                             tf.keras.layers.Dense(units=128,activation=tf.nn.relu),\n",
    "                            tf.keras.layers.Dense(units=10,activation=tf.nn.softmax)])\n",
    "model.compile(optimizer='adam',loss='sparse_categorical_crossentropy',metrics=['accuracy'])"
   ]
  },
  {
   "cell_type": "code",
   "execution_count": 72,
   "metadata": {},
   "outputs": [
    {
     "name": "stdout",
     "output_type": "stream",
     "text": [
      "Model: \"sequential_10\"\n",
      "_________________________________________________________________\n",
      "Layer (type)                 Output Shape              Param #   \n",
      "=================================================================\n",
      "conv2d_9 (Conv2D)            (None, 26, 26, 64)        640       \n",
      "_________________________________________________________________\n",
      "max_pooling2d_9 (MaxPooling2 (None, 13, 13, 64)        0         \n",
      "_________________________________________________________________\n",
      "conv2d_10 (Conv2D)           (None, 11, 11, 64)        36928     \n",
      "_________________________________________________________________\n",
      "max_pooling2d_10 (MaxPooling (None, 5, 5, 64)          0         \n",
      "_________________________________________________________________\n",
      "flatten_12 (Flatten)         (None, 1600)              0         \n",
      "_________________________________________________________________\n",
      "dense_35 (Dense)             (None, 128)               204928    \n",
      "_________________________________________________________________\n",
      "dense_36 (Dense)             (None, 10)                1290      \n",
      "=================================================================\n",
      "Total params: 243,786\n",
      "Trainable params: 243,786\n",
      "Non-trainable params: 0\n",
      "_________________________________________________________________\n"
     ]
    }
   ],
   "source": [
    "model.summary()"
   ]
  },
  {
   "cell_type": "code",
   "execution_count": 73,
   "metadata": {},
   "outputs": [
    {
     "name": "stdout",
     "output_type": "stream",
     "text": [
      "Train on 60000 samples\n",
      "Epoch 1/10\n",
      "60000/60000 [==============================] - 43s 724us/sample - loss: 0.4378 - accuracy: 0.8421\n",
      "Epoch 2/10\n",
      "60000/60000 [==============================] - 46s 767us/sample - loss: 0.2901 - accuracy: 0.8933\n",
      "Epoch 3/10\n",
      "60000/60000 [==============================] - 43s 710us/sample - loss: 0.2450 - accuracy: 0.9089\n",
      "Epoch 4/10\n",
      "60000/60000 [==============================] - 49s 811us/sample - loss: 0.2143 - accuracy: 0.9200\n",
      "Epoch 5/10\n",
      "60000/60000 [==============================] - 51s 845us/sample - loss: 0.1869 - accuracy: 0.9299\n",
      "Epoch 6/10\n",
      "60000/60000 [==============================] - 52s 871us/sample - loss: 0.1655 - accuracy: 0.9379\n",
      "Epoch 7/10\n",
      "60000/60000 [==============================] - 50s 834us/sample - loss: 0.1443 - accuracy: 0.9452\n",
      "Epoch 8/10\n",
      "60000/60000 [==============================] - 49s 809us/sample - loss: 0.1266 - accuracy: 0.9524\n",
      "Epoch 9/10\n",
      "60000/60000 [==============================] - 49s 823us/sample - loss: 0.1116 - accuracy: 0.9570\n",
      "Epoch 10/10\n",
      "60000/60000 [==============================] - 49s 812us/sample - loss: 0.0977 - accuracy: 0.9628\n"
     ]
    },
    {
     "data": {
      "text/plain": [
       "<tensorflow.python.keras.callbacks.History at 0x16f5f29d0>"
      ]
     },
     "execution_count": 73,
     "metadata": {},
     "output_type": "execute_result"
    }
   ],
   "source": [
    "model.fit(x_train,y_train,epochs=10)"
   ]
  },
  {
   "cell_type": "markdown",
   "metadata": {},
   "source": [
    "## Visualizing the Convolutions and Pooling\n",
    "\n",
    "This code will show us the convolutions graphically. \n",
    "\n",
    "The print (test_labels[;100]) shows us the first 100 labels in the test set, and you can see that the ones at index 0, index 23 and index 28 are all the same value (9). \n",
    "\n",
    "They're all shoes. Let's take a look at the result of running the convolution on each, and you'll begin to see common features between them emerge. \n",
    "\n",
    "Now, when the DNN is training on that data, it's working with a lot less, and it's perhaps finding a commonality between shoes based on this convolution/pooling combination."
   ]
  },
  {
   "cell_type": "code",
   "execution_count": 68,
   "metadata": {},
   "outputs": [
    {
     "name": "stdout",
     "output_type": "stream",
     "text": [
      "[9 2 1 1 6 1 4 6 5 7 4 5 7 3 4 1 2 4 8 0 2 5 7 9 1 4 6 0 9 3 8 8 3 3 8 0 7\n",
      " 5 7 9 6 1 3 7 6 7 2 1 2 2 4 4 5 8 2 2 8 4 8 0 7 7 8 5 1 1 2 3 9 8 7 0 2 6\n",
      " 2 3 1 2 8 4 1 8 5 9 5 0 3 2 0 6 5 3 6 7 1 8 0 1 4 2]\n"
     ]
    }
   ],
   "source": [
    "print(y_test[:100])"
   ]
  },
  {
   "cell_type": "code",
   "execution_count": 74,
   "metadata": {},
   "outputs": [
    {
     "data": {
      "image/png": "[encoded data removed]",
      "text/plain": [
       "<Figure size 432x288 with 12 Axes>"
      ]
     },
     "metadata": {
      "needs_background": "light"
     },
     "output_type": "display_data"
    }
   ],
   "source": [
    "import matplotlib.pyplot as plt\n",
    "f, axarr = plt.subplots(3,4)\n",
    "FIRST_IMAGE=0\n",
    "SECOND_IMAGE=23\n",
    "THIRD_IMAGE=28\n",
    "CONVOLUTION_NUMBER = 7\n",
    "from tensorflow.keras import models\n",
    "layer_outputs = [layer.output for layer in model.layers]\n",
    "activation_model = tf.keras.models.Model(inputs = model.input, outputs = layer_outputs)\n",
    "for x in range(0,4):\n",
    "    f1 = activation_model.predict(x_test[FIRST_IMAGE].reshape(1, 28, 28, 1))[x]\n",
    "    axarr[0,x].imshow(f1[0, : , :, CONVOLUTION_NUMBER], cmap='inferno')\n",
    "    axarr[0,x].grid(False)\n",
    "    f2 = activation_model.predict(x_test[SECOND_IMAGE].reshape(1, 28, 28, 1))[x]\n",
    "    axarr[1,x].imshow(f2[0, : , :, CONVOLUTION_NUMBER], cmap='inferno')\n",
    "    axarr[1,x].grid(False)\n",
    "    f3 = activation_model.predict(x_test[THIRD_IMAGE].reshape(1, 28, 28, 1))[x]\n",
    "    axarr[2,x].imshow(f3[0, : , :, CONVOLUTION_NUMBER], cmap='inferno')\n",
    "    axarr[2,x].grid(False)"
   ]
  },
  {
   "cell_type": "markdown",
   "metadata": {},
   "source": [
    "## EXERCISES\n",
    "* Try editing the convolutions. Change the 32s to either 16 or 64. What impact will this have on accuracy and/or training time.\n",
    "* Remove the final Convolution. What impact will this have on accuracy or training time?\n",
    "* How about adding more Convolutions? What impact do you think this will have? Experiment with it.\n",
    "* Remove all Convolutions but the first. What impact do you think this will have? Experiment with it.\n",
    "* In the previous lesson you implemented a callback to check on the loss function and to cancel training once it hit a certain amount. See if you can implement that here!"
   ]
  },
  {
   "cell_type": "markdown",
   "metadata": {},
   "source": [
    "## Scenarios\n",
    "* No Conv Layers - 0.9793000221252441\n",
    "* 1 Conv Layer - 16 filters - 0.9876000285148621\n",
    "* 1 Conv Layer - 32 filters - 0.984000027179718\n",
    "* 1 Conv Layer - 64 filters - 0.9876999855041504\n",
    "* 2 Conv Layers - each 32 filters - 0.9896000027656555\n",
    "* 2 Conv Layers - each 64 filters - 0.9904000163078308\n",
    "* 2 Conv Layers - each 64 filters - 0.9898999929428101 with 20 epochs\n",
    "    * When I increased the epochs the model is overfitting"
   ]
  },
  {
   "cell_type": "markdown",
   "metadata": {},
   "source": [
    "## Add Callbacks"
   ]
  },
  {
   "cell_type": "code",
   "execution_count": 88,
   "metadata": {},
   "outputs": [],
   "source": [
    "class myCallBacks(tf.keras.callbacks.Callback):\n",
    "    def on_epoch_end(self,epoch,log={}):\n",
    "        if log.get('accuracy')>0.99:\n",
    "            print(\"Reached 99% accuracy so cancelling the training\")\n",
    "            self.model.stop_training=True"
   ]
  },
  {
   "cell_type": "code",
   "execution_count": 89,
   "metadata": {},
   "outputs": [
    {
     "name": "stdout",
     "output_type": "stream",
     "text": [
      "Model: \"sequential_18\"\n",
      "_________________________________________________________________\n",
      "Layer (type)                 Output Shape              Param #   \n",
      "=================================================================\n",
      "conv2d_25 (Conv2D)           (None, 26, 26, 64)        640       \n",
      "_________________________________________________________________\n",
      "max_pooling2d_18 (MaxPooling (None, 13, 13, 64)        0         \n",
      "_________________________________________________________________\n",
      "conv2d_26 (Conv2D)           (None, 11, 11, 64)        36928     \n",
      "_________________________________________________________________\n",
      "flatten_20 (Flatten)         (None, 7744)              0         \n",
      "_________________________________________________________________\n",
      "dense_51 (Dense)             (None, 128)               991360    \n",
      "_________________________________________________________________\n",
      "dense_52 (Dense)             (None, 10)                1290      \n",
      "=================================================================\n",
      "Total params: 1,030,218\n",
      "Trainable params: 1,030,218\n",
      "Non-trainable params: 0\n",
      "_________________________________________________________________\n"
     ]
    }
   ],
   "source": [
    "callbacks = myCallBacks()\n",
    "model = tf.keras.Sequential([tf.keras.layers.Conv2D(filters=64,kernel_size=(3,3),activation='relu',input_shape=(28,28,1)),\n",
    "                            tf.keras.layers.MaxPool2D(pool_size=(2,2)),\n",
    "                            tf.keras.layers.Conv2D(filters=64,kernel_size=(3,3),activation='relu'),\n",
    "                            tf.keras.layers.Flatten(),\n",
    "                            tf.keras.layers.Dense(units=128,activation='relu'),\n",
    "                            tf.keras.layers.Dense(units=10,activation='softmax')])\n",
    "model.compile(optimizer='adam',loss='sparse_categorical_crossentropy',metrics=['accuracy'])\n",
    "model.summary()"
   ]
  },
  {
   "cell_type": "code",
   "execution_count": 90,
   "metadata": {},
   "outputs": [
    {
     "name": "stdout",
     "output_type": "stream",
     "text": [
      "Train on 60000 samples\n",
      "Epoch 1/20\n",
      "60000/60000 [==============================] - 43s 712us/sample - loss: 0.3839 - accuracy: 0.8597\n",
      "Epoch 2/20\n",
      "60000/60000 [==============================] - 46s 759us/sample - loss: 0.2516 - accuracy: 0.9082\n",
      "Epoch 3/20\n",
      "60000/60000 [==============================] - 42s 701us/sample - loss: 0.2023 - accuracy: 0.9245\n",
      "Epoch 4/20\n",
      "60000/60000 [==============================] - 44s 725us/sample - loss: 0.1628 - accuracy: 0.9390\n",
      "Epoch 5/20\n",
      "60000/60000 [==============================] - 48s 796us/sample - loss: 0.1326 - accuracy: 0.9506\n",
      "Epoch 6/20\n",
      "60000/60000 [==============================] - 53s 890us/sample - loss: 0.1062 - accuracy: 0.9604\n",
      "Epoch 7/20\n",
      "60000/60000 [==============================] - 53s 881us/sample - loss: 0.0845 - accuracy: 0.9684\n",
      "Epoch 8/20\n",
      "60000/60000 [==============================] - 53s 883us/sample - loss: 0.0719 - accuracy: 0.9729\n",
      "Epoch 9/20\n",
      "60000/60000 [==============================] - 47s 787us/sample - loss: 0.0563 - accuracy: 0.9792\n",
      "Epoch 10/20\n",
      "60000/60000 [==============================] - 47s 781us/sample - loss: 0.0481 - accuracy: 0.9820\n",
      "Epoch 11/20\n",
      "60000/60000 [==============================] - 48s 808us/sample - loss: 0.0394 - accuracy: 0.9858\n",
      "Epoch 12/20\n",
      "60000/60000 [==============================] - 49s 816us/sample - loss: 0.0373 - accuracy: 0.9864\n",
      "Epoch 13/20\n",
      "60000/60000 [==============================] - 54s 894us/sample - loss: 0.0316 - accuracy: 0.9887\n",
      "Epoch 14/20\n",
      "60000/60000 [==============================] - 54s 896us/sample - loss: 0.0287 - accuracy: 0.9899\n",
      "Epoch 15/20\n",
      "59968/60000 [============================>.] - ETA: 0s - loss: 0.0248 - accuracy: 0.9909Reached 99% accuracy so cancelling the training\n",
      "60000/60000 [==============================] - 50s 838us/sample - loss: 0.0248 - accuracy: 0.9909\n"
     ]
    },
    {
     "data": {
      "text/plain": [
       "<tensorflow.python.keras.callbacks.History at 0x1812b5950>"
      ]
     },
     "execution_count": 90,
     "metadata": {},
     "output_type": "execute_result"
    }
   ],
   "source": [
    "model.fit(x_train,y_train,epochs=20,callbacks=[callbacks])"
   ]
  }
 ],
 "metadata": {
  "kernelspec": {
   "display_name": "Python 3",
   "language": "python",
   "name": "python3"
  },
  "language_info": {
   "codemirror_mode": {
    "name": "ipython",
    "version": 3
   },
   "file_extension": ".py",
   "mimetype": "text/x-python",
   "name": "python",
   "nbconvert_exporter": "python",
   "pygments_lexer": "ipython3",
   "version": "3.7.4"
  }
 },
 "nbformat": 4,
 "nbformat_minor": 4
}

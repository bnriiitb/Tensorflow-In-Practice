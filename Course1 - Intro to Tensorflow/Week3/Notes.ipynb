{
 "cells": [
  {
   "cell_type": "markdown",
   "metadata": {},
   "source": [
    "# Week3\n",
    "## Contents\n",
    "\n",
    "* What are convolutions and pooling?\n",
    "* Implementing Convolutions and Pooling Layers\n",
    "* Implementing ConvNet\n",
    "* Improving Model Performance using Convolutions\n",
    "\n",
    "\n",
    "* Convolution - We take filter and run over the image, emphasises certain features in the image.\n",
    "* Pooling - Way of compressing an image"
   ]
  },
  {
   "cell_type": "code",
   "execution_count": null,
   "metadata": {},
   "outputs": [],
   "source": []
  }
 ],
 "metadata": {
  "kernelspec": {
   "display_name": "Python 3",
   "language": "python",
   "name": "python3"
  },
  "language_info": {
   "codemirror_mode": {
    "name": "ipython",
    "version": 3
   },
   "file_extension": ".py",
   "mimetype": "text/x-python",
   "name": "python",
   "nbconvert_exporter": "python",
   "pygments_lexer": "ipython3",
   "version": "3.7.4"
  }
 },
 "nbformat": 4,
 "nbformat_minor": 4
}

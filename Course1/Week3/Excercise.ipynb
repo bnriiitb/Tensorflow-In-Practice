{
 "cells": [
  {
   "cell_type": "markdown",
   "metadata": {},
   "source": [
    "# Excercise: Improve MNIST Scores using Convolutions\n",
    " \n",
    "For your exercise see if you can improve MNIST to 99.8% accuracy or more using only a single convolutional layer and a single MaxPooling 2D. \n",
    "\n",
    "You should stop training once the accuracy goes above this amount. \n",
    "It should happen in less than 20 epochs, so it's ok to hard code the number of epochs for training, but your training must end once it hits the above metric. If it doesn't, then you'll need to redesign your layers.\n",
    "I've started the code for you -- you need to finish it!\n",
    "When 99.8% accuracy has been hit, you should print out the string \"Reached 99.8% accuracy so cancelling training!\""
   ]
  },
  {
   "cell_type": "code",
   "execution_count": 6,
   "metadata": {},
   "outputs": [],
   "source": [
    "import numpy as np\n",
    "import tensorflow as tf"
   ]
  },
  {
   "cell_type": "code",
   "execution_count": 2,
   "metadata": {},
   "outputs": [
    {
     "data": {
      "text/plain": [
       "'2.1.0'"
      ]
     },
     "execution_count": 2,
     "metadata": {},
     "output_type": "execute_result"
    }
   ],
   "source": [
    "tf.__version__"
   ]
  },
  {
   "cell_type": "code",
   "execution_count": 8,
   "metadata": {},
   "outputs": [],
   "source": [
    "mnist_dataset = tf.keras.datasets.mnist"
   ]
  },
  {
   "cell_type": "code",
   "execution_count": 9,
   "metadata": {},
   "outputs": [],
   "source": [
    "(x_train,y_train),(x_test,y_test) = mnist_dataset.load_data()"
   ]
  },
  {
   "cell_type": "code",
   "execution_count": 10,
   "metadata": {},
   "outputs": [
    {
     "data": {
      "text/plain": [
       "((60000, 28, 28), (10000, 28, 28))"
      ]
     },
     "execution_count": 10,
     "metadata": {},
     "output_type": "execute_result"
    }
   ],
   "source": [
    "x_train.shape, x_test.shape"
   ]
  },
  {
   "cell_type": "code",
   "execution_count": 12,
   "metadata": {},
   "outputs": [],
   "source": [
    "x_train = x_train.reshape(60000, 28, 28,1)\n",
    "x_train = x_train/255.0\n",
    "x_test = x_test.reshape(10000, 28, 28,1)\n",
    "x_test = x_test/255.0"
   ]
  },
  {
   "cell_type": "code",
   "execution_count": 16,
   "metadata": {},
   "outputs": [],
   "source": [
    "class myCallBacks(tf.keras.callbacks.Callback):\n",
    "    def on_epoch_end(self,epoch, log={}):\n",
    "        if log.get('accuracy')>0.998:\n",
    "            print(\"Reached 99.8% accuracy so cancelling training!\")\n",
    "            self.model.stop_training=True"
   ]
  },
  {
   "cell_type": "code",
   "execution_count": 15,
   "metadata": {},
   "outputs": [
    {
     "name": "stdout",
     "output_type": "stream",
     "text": [
      "Model: \"sequential\"\n",
      "_________________________________________________________________\n",
      "Layer (type)                 Output Shape              Param #   \n",
      "=================================================================\n",
      "conv2d (Conv2D)              (None, 26, 26, 64)        640       \n",
      "_________________________________________________________________\n",
      "max_pooling2d (MaxPooling2D) (None, 13, 13, 64)        0         \n",
      "_________________________________________________________________\n",
      "flatten (Flatten)            (None, 10816)             0         \n",
      "_________________________________________________________________\n",
      "dense (Dense)                (None, 512)               5538304   \n",
      "_________________________________________________________________\n",
      "dense_1 (Dense)              (None, 10)                5130      \n",
      "=================================================================\n",
      "Total params: 5,544,074\n",
      "Trainable params: 5,544,074\n",
      "Non-trainable params: 0\n",
      "_________________________________________________________________\n"
     ]
    }
   ],
   "source": [
    "model = tf.keras.Sequential([tf.keras.layers.Conv2D(filters=64,kernel_size=(3,3),activation='relu',input_shape=(28,28,1)),\n",
    "                            tf.keras.layers.MaxPooling2D(pool_size=(2,2)),\n",
    "                            tf.keras.layers.Flatten(),\n",
    "                            tf.keras.layers.Dense(units=512,activation='relu'),\n",
    "                            tf.keras.layers.Dense(units=10,activation='softmax')])\n",
    "model.compile(optimizer='adam',loss='sparse_categorical_crossentropy',metrics=['accuracy'])\n",
    "model.summary()"
   ]
  },
  {
   "cell_type": "code",
   "execution_count": 17,
   "metadata": {},
   "outputs": [
    {
     "name": "stdout",
     "output_type": "stream",
     "text": [
      "Train on 60000 samples\n",
      "Epoch 1/20\n",
      "60000/60000 [==============================] - 60s 1ms/sample - loss: 0.1156 - accuracy: 0.9651\n",
      "Epoch 2/20\n",
      "60000/60000 [==============================] - 68s 1ms/sample - loss: 0.0364 - accuracy: 0.9886\n",
      "Epoch 3/20\n",
      "60000/60000 [==============================] - 71s 1ms/sample - loss: 0.0204 - accuracy: 0.9937\n",
      "Epoch 4/20\n",
      "60000/60000 [==============================] - 81s 1ms/sample - loss: 0.0148 - accuracy: 0.9951\n",
      "Epoch 5/20\n",
      "60000/60000 [==============================] - 88s 1ms/sample - loss: 0.0091 - accuracy: 0.9968\n",
      "Epoch 6/20\n",
      "60000/60000 [==============================] - 82s 1ms/sample - loss: 0.0068 - accuracy: 0.9979\n",
      "Epoch 7/20\n",
      "59968/60000 [============================>.] - ETA: 0s - loss: 0.0058 - accuracy: 0.9981Reached 99.8% accuracy so cancelling training!\n",
      "60000/60000 [==============================] - 81s 1ms/sample - loss: 0.0058 - accuracy: 0.9981\n"
     ]
    },
    {
     "data": {
      "text/plain": [
       "<tensorflow.python.keras.callbacks.History at 0x16d1c7150>"
      ]
     },
     "execution_count": 17,
     "metadata": {},
     "output_type": "execute_result"
    }
   ],
   "source": [
    "mycallbacks = myCallBacks()\n",
    "model.fit(x_train,y_train,epochs=20,callbacks=[mycallbacks])"
   ]
  }
 ],
 "metadata": {
  "kernelspec": {
   "display_name": "Python 3",
   "language": "python",
   "name": "python3"
  },
  "language_info": {
   "codemirror_mode": {
    "name": "ipython",
    "version": 3
   },
   "file_extension": ".py",
   "mimetype": "text/x-python",
   "name": "python",
   "nbconvert_exporter": "python",
   "pygments_lexer": "ipython3",
   "version": "3.7.4"
  }
 },
 "nbformat": 4,
 "nbformat_minor": 4
}

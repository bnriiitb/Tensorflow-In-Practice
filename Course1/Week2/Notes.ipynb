{
 "cells": [
  {
   "cell_type": "markdown",
   "metadata": {},
   "source": [
    "# Week2\n",
    "## Contents\n",
    "* Build a Neural Network Model for A Computer Vision Task\n",
    "    * Usage of Flatten and Dense Layers\n",
    "    * Usage of Callbacks\n",
    "* Build a Neural Network Model for Fashion MNIST Data Classification\n",
    "* Build a Neural Network Model for Digit Classification"
   ]
  }
 ],
 "metadata": {
  "kernelspec": {
   "display_name": "Python 3",
   "language": "python",
   "name": "python3"
  },
  "language_info": {
   "codemirror_mode": {
    "name": "ipython",
    "version": 3
   },
   "file_extension": ".py",
   "mimetype": "text/x-python",
   "name": "python",
   "nbconvert_exporter": "python",
   "pygments_lexer": "ipython3",
   "version": "3.7.4"
  }
 },
 "nbformat": 4,
 "nbformat_minor": 4
}

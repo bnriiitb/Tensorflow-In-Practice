{
 "cells": [
  {
   "cell_type": "code",
   "execution_count": 1,
   "metadata": {},
   "outputs": [
    {
     "name": "stdout",
     "output_type": "stream",
     "text": [
      "2.2.0\n"
     ]
    }
   ],
   "source": [
    "import tensorflow_datasets as tfds\n",
    "import tensorflow as tf\n",
    "print(tf.__version__)"
   ]
  },
  {
   "cell_type": "code",
   "execution_count": 2,
   "metadata": {},
   "outputs": [
    {
     "name": "stderr",
     "output_type": "stream",
     "text": [
      "WARNING:absl:TFDS datasets with text encoding are deprecated and will be removed in a future version. Instead, you should use the plain text version and tokenize the text using `tensorflow_text` (See: https://www.tensorflow.org/tutorials/tensorflow_text/intro#tfdata_example)\n"
     ]
    }
   ],
   "source": [
    "# Get the data\n",
    "dataset, info = tfds.load('imdb_reviews/subwords8k', with_info=True, as_supervised=True)\n",
    "train_dataset, test_dataset = dataset['train'], dataset['test']"
   ]
  },
  {
   "cell_type": "code",
   "execution_count": 3,
   "metadata": {},
   "outputs": [],
   "source": [
    "tokenizer = info.features['text'].encoder"
   ]
  },
  {
   "cell_type": "code",
   "execution_count": 4,
   "metadata": {},
   "outputs": [],
   "source": [
    "BUFFER_SIZE = 10000\n",
    "BATCH_SIZE = 64\n",
    "\n",
    "train_dataset = train_dataset.shuffle(BUFFER_SIZE)\n",
    "train_dataset = train_dataset.padded_batch(BATCH_SIZE, tf.compat.v1.data.get_output_shapes(train_dataset))\n",
    "test_dataset = test_dataset.padded_batch(BATCH_SIZE, tf.compat.v1.data.get_output_shapes(test_dataset))"
   ]
  },
  {
   "cell_type": "code",
   "execution_count": 6,
   "metadata": {},
   "outputs": [
    {
     "name": "stdout",
     "output_type": "stream",
     "text": [
      "Model: \"sequential\"\n",
      "_________________________________________________________________\n",
      "Layer (type)                 Output Shape              Param #   \n",
      "=================================================================\n",
      "embedding_1 (Embedding)      (None, None, 64)          523840    \n",
      "_________________________________________________________________\n",
      "bidirectional_2 (Bidirection (None, None, 128)         66048     \n",
      "_________________________________________________________________\n",
      "bidirectional_3 (Bidirection (None, 128)               98816     \n",
      "_________________________________________________________________\n",
      "dense (Dense)                (None, 64)                8256      \n",
      "_________________________________________________________________\n",
      "dense_1 (Dense)              (None, 1)                 65        \n",
      "=================================================================\n",
      "Total params: 697,025\n",
      "Trainable params: 697,025\n",
      "Non-trainable params: 0\n",
      "_________________________________________________________________\n"
     ]
    }
   ],
   "source": [
    "model = tf.keras.Sequential([\n",
    "    tf.keras.layers.Embedding(input_dim=tokenizer.vocab_size,output_dim=64),\n",
    "    tf.keras.layers.Bidirectional(tf.keras.layers.LSTM(units=64,return_sequences=True)),\n",
    "    tf.keras.layers.Bidirectional(tf.keras.layers.LSTM(units=64)),\n",
    "    tf.keras.layers.Dense(units=64,activation='relu'),\n",
    "    tf.keras.layers.Dense(units=1,activation='sigmoid')\n",
    "])\n",
    "model.compile(optimizer='adam',loss='binary_crossentropy',metrics=['accuracy'])\n",
    "model.summary()"
   ]
  },
  {
   "cell_type": "code",
   "execution_count": null,
   "metadata": {},
   "outputs": [
    {
     "name": "stdout",
     "output_type": "stream",
     "text": [
      "Epoch 1/10\n",
      "391/391 [==============================] - 2135s 5s/step - loss: 0.5575 - accuracy: 0.7130 - val_loss: 0.4609 - val_accuracy: 0.7910\n",
      "Epoch 2/10\n",
      "391/391 [==============================] - 1894s 5s/step - loss: 0.4591 - accuracy: 0.7990 - val_loss: 0.4736 - val_accuracy: 0.7717\n",
      "Epoch 3/10\n",
      "391/391 [==============================] - 1320s 3s/step - loss: 0.3437 - accuracy: 0.8557 - val_loss: 0.3474 - val_accuracy: 0.8523\n",
      "Epoch 4/10\n",
      "391/391 [==============================] - 1315s 3s/step - loss: 0.2442 - accuracy: 0.9056 - val_loss: 0.3330 - val_accuracy: 0.8626\n",
      "Epoch 5/10\n",
      "391/391 [==============================] - 2570s 7s/step - loss: 0.1974 - accuracy: 0.9260 - val_loss: 0.3804 - val_accuracy: 0.8448\n",
      "Epoch 6/10\n",
      "391/391 [==============================] - 1334s 3s/step - loss: 0.1580 - accuracy: 0.9418 - val_loss: 0.3325 - val_accuracy: 0.8700\n",
      "Epoch 7/10\n",
      "391/391 [==============================] - 1324s 3s/step - loss: 0.1195 - accuracy: 0.9590 - val_loss: 0.4427 - val_accuracy: 0.8482\n",
      "Epoch 8/10\n",
      "237/391 [=================>............] - ETA: 6:42 - loss: 0.0890 - accuracy: 0.9707"
     ]
    }
   ],
   "source": [
    "history  = model.fit(train_dataset,epochs=10,validation_data=test_dataset)"
   ]
  }
 ],
 "metadata": {
  "kernelspec": {
   "display_name": "tf",
   "language": "python",
   "name": "tf"
  },
  "language_info": {
   "codemirror_mode": {
    "name": "ipython",
    "version": 3
   },
   "file_extension": ".py",
   "mimetype": "text/x-python",
   "name": "python",
   "nbconvert_exporter": "python",
   "pygments_lexer": "ipython3",
   "version": "3.8.3"
  }
 },
 "nbformat": 4,
 "nbformat_minor": 4
}

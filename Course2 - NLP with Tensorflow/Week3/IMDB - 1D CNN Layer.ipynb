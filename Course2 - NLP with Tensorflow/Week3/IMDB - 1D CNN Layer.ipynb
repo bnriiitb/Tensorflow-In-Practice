{
 "cells": [
  {
   "cell_type": "code",
   "execution_count": 1,
   "metadata": {},
   "outputs": [
    {
     "data": {
      "text/plain": [
       "'2.2.0'"
      ]
     },
     "execution_count": 1,
     "metadata": {},
     "output_type": "execute_result"
    }
   ],
   "source": [
    "import numpy as np\n",
    "import tensorflow as tf\n",
    "import tensorflow_datasets as tfdf\n",
    "tf.__version__"
   ]
  },
  {
   "cell_type": "code",
   "execution_count": 2,
   "metadata": {},
   "outputs": [
    {
     "name": "stderr",
     "output_type": "stream",
     "text": [
      "WARNING:absl:TFDS datasets with text encoding are deprecated and will be removed in a future version. Instead, you should use the plain text version and tokenize the text using `tensorflow_text` (See: https://www.tensorflow.org/tutorials/tensorflow_text/intro#tfdata_example)\n"
     ]
    }
   ],
   "source": [
    "dataset,info = tfdf.load('imdb_reviews/subwords8k',with_info=True,as_supervised=True)"
   ]
  },
  {
   "cell_type": "code",
   "execution_count": 3,
   "metadata": {},
   "outputs": [],
   "source": [
    "train_dataset, test_dataset = dataset['train'],dataset['test']"
   ]
  },
  {
   "cell_type": "code",
   "execution_count": 4,
   "metadata": {},
   "outputs": [],
   "source": [
    "tokenizer = info.features['text'].encoder"
   ]
  },
  {
   "cell_type": "code",
   "execution_count": 5,
   "metadata": {},
   "outputs": [],
   "source": [
    "BUFFER_SIZE = 10000\n",
    "BATCH_SIZE = 64\n",
    "\n",
    "train_dataset = train_dataset.shuffle(BUFFER_SIZE)\n",
    "train_dataset = train_dataset.padded_batch(BATCH_SIZE, tf.compat.v1.data.get_output_shapes(train_dataset))\n",
    "test_dataset = test_dataset.padded_batch(BATCH_SIZE, tf.compat.v1.data.get_output_shapes(test_dataset))"
   ]
  },
  {
   "cell_type": "code",
   "execution_count": 9,
   "metadata": {},
   "outputs": [
    {
     "name": "stdout",
     "output_type": "stream",
     "text": [
      "Model: \"sequential\"\n",
      "_________________________________________________________________\n",
      "Layer (type)                 Output Shape              Param #   \n",
      "=================================================================\n",
      "embedding_2 (Embedding)      (None, None, 64)          523840    \n",
      "_________________________________________________________________\n",
      "conv1d (Conv1D)              (None, None, 32)          6176      \n",
      "_________________________________________________________________\n",
      "global_average_pooling1d (Gl (None, 32)                0         \n",
      "_________________________________________________________________\n",
      "dense (Dense)                (None, 64)                2112      \n",
      "_________________________________________________________________\n",
      "dense_1 (Dense)              (None, 1)                 65        \n",
      "=================================================================\n",
      "Total params: 532,193\n",
      "Trainable params: 532,193\n",
      "Non-trainable params: 0\n",
      "_________________________________________________________________\n"
     ]
    }
   ],
   "source": [
    "model = tf.keras.Sequential([\n",
    "    tf.keras.layers.Embedding(input_dim=tokenizer.vocab_size,output_dim=64),\n",
    "    tf.keras.layers.Convolution1D(filters=32,kernel_size=3,activation='relu'),\n",
    "    tf.keras.layers.GlobalAveragePooling1D(),\n",
    "    tf.keras.layers.Dense(units=64,activation='relu'),\n",
    "    tf.keras.layers.Dense(units=1,activation='sigmoid')\n",
    "])\n",
    "model.compile(optimizer='adam',loss='binary_crossentropy',metrics=['accuracy'])\n",
    "model.summary()"
   ]
  },
  {
   "cell_type": "code",
   "execution_count": 11,
   "metadata": {},
   "outputs": [
    {
     "name": "stdout",
     "output_type": "stream",
     "text": [
      "Epoch 1/10\n",
      "391/391 [==============================] - 51s 131ms/step - loss: 0.1891 - accuracy: 0.9314 - val_loss: 0.3245 - val_accuracy: 0.8758\n",
      "Epoch 2/10\n",
      "391/391 [==============================] - 54s 138ms/step - loss: 0.1561 - accuracy: 0.9450 - val_loss: 0.3548 - val_accuracy: 0.8694\n",
      "Epoch 3/10\n",
      "391/391 [==============================] - 52s 133ms/step - loss: 0.1299 - accuracy: 0.9549 - val_loss: 0.4003 - val_accuracy: 0.8660\n",
      "Epoch 4/10\n",
      "391/391 [==============================] - 51s 130ms/step - loss: 0.1105 - accuracy: 0.9629 - val_loss: 0.4613 - val_accuracy: 0.8618\n",
      "Epoch 5/10\n",
      "391/391 [==============================] - 53s 134ms/step - loss: 0.0947 - accuracy: 0.9690 - val_loss: 0.4965 - val_accuracy: 0.8604\n",
      "Epoch 6/10\n",
      "391/391 [==============================] - 52s 133ms/step - loss: 0.0809 - accuracy: 0.9735 - val_loss: 0.5539 - val_accuracy: 0.8558\n",
      "Epoch 7/10\n",
      "391/391 [==============================] - 54s 139ms/step - loss: 0.0671 - accuracy: 0.9802 - val_loss: 0.6304 - val_accuracy: 0.8514\n",
      "Epoch 8/10\n",
      "391/391 [==============================] - 53s 135ms/step - loss: 0.0533 - accuracy: 0.9844 - val_loss: 0.7229 - val_accuracy: 0.8516\n",
      "Epoch 9/10\n",
      "391/391 [==============================] - 56s 143ms/step - loss: 0.0438 - accuracy: 0.9889 - val_loss: 0.7987 - val_accuracy: 0.8514\n",
      "Epoch 10/10\n",
      "391/391 [==============================] - 65s 166ms/step - loss: 0.0355 - accuracy: 0.9921 - val_loss: 0.8693 - val_accuracy: 0.8489\n"
     ]
    }
   ],
   "source": [
    "NUM_EPOCHS=10\n",
    "history = model.fit(train_dataset,epochs=NUM_EPOCHS,validation_data=test_dataset)"
   ]
  },
  {
   "cell_type": "code",
   "execution_count": 17,
   "metadata": {},
   "outputs": [],
   "source": [
    "from matplotlib import pyplot as plt\n",
    "%matplotlib inline\n",
    "\n",
    "def plot_graphs(history,string):\n",
    "    plt.plot(history.history[string])\n",
    "    plt.plot(history.history['val_'+string])\n",
    "    plt.xlabel('epochs')\n",
    "    plt.ylabel(string)\n",
    "    plt.legend([string,'val_'+string])\n",
    "    plt.show()"
   ]
  },
  {
   "cell_type": "markdown",
   "metadata": {},
   "source": [
    "## Accuracy Plot"
   ]
  },
  {
   "cell_type": "code",
   "execution_count": 20,
   "metadata": {},
   "outputs": [
    {
     "data": {
      "image/png": "[encoded data removed]",
      "text/plain": [
       "<Figure size 432x288 with 1 Axes>"
      ]
     },
     "metadata": {
      "needs_background": "light"
     },
     "output_type": "display_data"
    }
   ],
   "source": [
    "plot_graphs(history,'accuracy')"
   ]
  },
  {
   "cell_type": "markdown",
   "metadata": {},
   "source": [
    "## Loss Plot"
   ]
  },
  {
   "cell_type": "code",
   "execution_count": 23,
   "metadata": {},
   "outputs": [
    {
     "data": {
      "image/png": "[encoded data removed]",
      "text/plain": [
       "<Figure size 432x288 with 1 Axes>"
      ]
     },
     "metadata": {
      "needs_background": "light"
     },
     "output_type": "display_data"
    }
   ],
   "source": [
    "plot_graphs(history,'loss')"
   ]
  }
 ],
 "metadata": {
  "kernelspec": {
   "display_name": "tf",
   "language": "python",
   "name": "tf"
  },
  "language_info": {
   "codemirror_mode": {
    "name": "ipython",
    "version": 3
   },
   "file_extension": ".py",
   "mimetype": "text/x-python",
   "name": "python",
   "nbconvert_exporter": "python",
   "pygments_lexer": "ipython3",
   "version": "3.8.3"
  }
 },
 "nbformat": 4,
 "nbformat_minor": 4
}
